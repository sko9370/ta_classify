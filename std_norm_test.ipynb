{
 "cells": [
  {
   "cell_type": "code",
   "execution_count": 1,
   "id": "talented-quest",
   "metadata": {},
   "outputs": [],
   "source": [
    "import pandas as pd\n",
    "import yfinance as yf\n",
    "\n",
    "from sklearn.model_selection import train_test_split\n",
    "from sklearn.ensemble import RandomForestRegressor\n",
    "from xgboost import XGBRegressor\n",
    "\n",
    "from sklearn.metrics import mean_absolute_error, r2_score\n",
    "import matplotlib.pyplot as plt\n",
    "import matplotlib as mpl\n",
    "mpl.style.use('seaborn')\n",
    "\n",
    "from add_indicators import bollinger_bands, rsi, macd, add_all_indicators\n",
    "\n",
    "from sklearn import preprocessing"
   ]
  },
  {
   "cell_type": "code",
   "execution_count": 2,
   "id": "wrong-antibody",
   "metadata": {},
   "outputs": [],
   "source": [
    "def show_all():\n",
    "    pd.set_option('display.max_rows', None)\n",
    "    pd.set_option('display.max_columns', None)\n",
    "    pd.set_option('display.width', None)\n",
    "    pd.set_option('display.max_colwidth', None)\n",
    "\n",
    "def add_change(df):\n",
    "    df['% Change'] = df['Close'].diff()\n",
    "    df['% Change'] = df['% Change']/df['Close']\n",
    "    df['% Change'] = df['% Change'].shift(periods=-1)\n",
    "    \n",
    "def add_volume(df):\n",
    "    df['% Volume'] = df['Volume'].diff()\n",
    "    df['% Volume'] = df['% Volume']/df['Volume']\n",
    "    #df['% Volume'] = df['% Volume'].shift(periods=-1)\n",
    "\n",
    "def preprocess(df):\n",
    "    add_change(df)\n",
    "    add_volume(df)\n",
    "    add_all_indicators(df)\n",
    "    return df.dropna()\n",
    "\n",
    "def create_model(model, train_X, train_y):\n",
    "    model.fit(train_X, train_y)\n",
    "    return model\n",
    "\n",
    "def run_predictions(name, model, val_X, val_y):\n",
    "    model_predictions = model.predict(val_X)\n",
    "    mae = mean_absolute_error(val_y, model_predictions)\n",
    "    score = r2_score(val_y, model_predictions)\n",
    "    return name, mae, score\n",
    "\n",
    "def plot(start, end, df):\n",
    "    plt.plot(df['% Change'].iloc[start:end], label='% Change')\n",
    "    plt.plot(df['rfr'].iloc[start:end], label='rfr')\n",
    "    plt.plot(df['xgb'].iloc[start:end], label='xgb')\n",
    "    plt.title('Results')\n",
    "    plt.legend()\n",
    "    plt.show()\n",
    "    \n",
    "def show_results(results):\n",
    "    for r in results:\n",
    "        df[r[0]] = r[1].predict(df[features])\n",
    "        print('Model: ', r[0])\n",
    "        print('% MAE: ', r[2])\n",
    "        print('Score: ', r[3])\n",
    "        print()"
   ]
  },
  {
   "cell_type": "code",
   "execution_count": 23,
   "id": "sunrise-connectivity",
   "metadata": {
    "scrolled": true
   },
   "outputs": [
    {
     "name": "stdout",
     "output_type": "stream",
     "text": [
      "                 Close       ema_9\n",
      "Date                              \n",
      "2020-05-08  288.766968  277.845413\n",
      "2020-05-11  288.826202  278.942658\n",
      "2020-05-12  283.069458  279.935156\n",
      "2020-05-13  278.063110  280.249768\n",
      "2020-05-14  281.390808  280.030360\n",
      "               Close     ema_9\n",
      "Date                          \n",
      "2020-05-08 -1.807362 -1.991067\n",
      "2020-05-11 -1.805324 -1.953432\n",
      "2020-05-12 -2.003433 -1.919390\n",
      "2020-05-13 -2.175718 -1.908599\n",
      "2020-05-14 -2.061201 -1.916124\n"
     ]
    }
   ],
   "source": [
    "ticker = yf.Ticker(\"spy\")\n",
    "df = ticker.history(period=\"1y\", interval=\"1d\")\n",
    "\n",
    "df = preprocess(df)\n",
    "\n",
    "#print(df.columns)\n",
    "'''\n",
    "print(df[['Close', 'ema_9']].head())\n",
    "df[['Close', 'ema_9']] = preprocessing.StandardScaler().fit_transform(df[['Close', 'ema_9']])\n",
    "print(df[['Close', 'ema_9']].head())\n",
    "'''\n",
    "print(df[['Close', 'ema_9']].head())\n",
    "df[['Close', 'ema_9']] = preprocessing.StandardScaler().fit_transform(df[['Close', 'ema_9']])\n",
    "print(df[['Close', 'ema_9']].head())\n",
    "\n",
    "features = ['Close', '% Volume', 'rsi',\n",
    "            'ema_9', 'sma_5', 'sma_10', 'sma_15', 'sma_30']\n",
    "\n",
    "X = df[features].copy()\n",
    "y = df['% Change'].copy()"
   ]
  },
  {
   "cell_type": "code",
   "execution_count": 27,
   "id": "ongoing-lounge",
   "metadata": {},
   "outputs": [
    {
     "name": "stdout",
     "output_type": "stream",
     "text": [
      "Model:  rfr\n",
      "% MAE:  0.01055386842063081\n",
      "Score:  -0.06793241113221127\n",
      "\n",
      "Model:  xgb\n",
      "% MAE:  0.010470797461438693\n",
      "Score:  -0.07861419383316726\n",
      "\n"
     ]
    }
   ],
   "source": [
    "train_X, val_X, train_y, val_y = train_test_split(X, y, random_state = 0)\n",
    "\n",
    "results = []\n",
    "fitted_models = []\n",
    "for n, model in [('rfr', RandomForestRegressor()), ('xgb', XGBRegressor())]:\n",
    "    fitted_model = create_model(model, train_X, train_y)\n",
    "    name, mae, score = run_predictions(n, fitted_model, val_X, val_y)\n",
    "    results.append([name, fitted_model, mae, score])\n",
    "    df[n] = fitted_model.predict(df[features])\n",
    "    fitted_models.append(fitted_model)\n",
    "\n",
    "show_results(results)"
   ]
  },
  {
   "cell_type": "code",
   "execution_count": null,
   "id": "indian-audience",
   "metadata": {},
   "outputs": [],
   "source": []
  }
 ],
 "metadata": {
  "kernelspec": {
   "display_name": "Python 3",
   "language": "python",
   "name": "python3"
  },
  "language_info": {
   "codemirror_mode": {
    "name": "ipython",
    "version": 3
   },
   "file_extension": ".py",
   "mimetype": "text/x-python",
   "name": "python",
   "nbconvert_exporter": "python",
   "pygments_lexer": "ipython3",
   "version": "3.8.5"
  }
 },
 "nbformat": 4,
 "nbformat_minor": 5
}
