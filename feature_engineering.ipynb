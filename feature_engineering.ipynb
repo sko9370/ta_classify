{
 "cells": [
  {
   "cell_type": "code",
   "execution_count": 1,
   "id": "fossil-despite",
   "metadata": {},
   "outputs": [],
   "source": [
    "import pandas as pd\n",
    "import yfinance as yf\n",
    "\n",
    "from sklearn.model_selection import train_test_split\n",
    "from sklearn.ensemble import RandomForestRegressor\n",
    "from xgboost import XGBRegressor\n",
    "\n",
    "from sklearn.metrics import mean_absolute_error, r2_score\n",
    "import matplotlib.pyplot as plt\n",
    "import matplotlib as mpl\n",
    "mpl.style.use('seaborn')\n",
    "\n",
    "from add_indicators import bollinger_bands, rsi, macd, add_all_indicators"
   ]
  },
  {
   "cell_type": "code",
   "execution_count": 2,
   "id": "vocal-mississippi",
   "metadata": {},
   "outputs": [],
   "source": [
    "def show_all():\n",
    "    pd.set_option('display.max_rows', None)\n",
    "    pd.set_option('display.max_columns', None)\n",
    "    pd.set_option('display.width', None)\n",
    "    pd.set_option('display.max_colwidth', None)\n",
    "\n",
    "def add_change(df):\n",
    "    df['% Change'] = df['Close'].diff()\n",
    "    df['% Change'] = df['% Change']/df['Close']\n",
    "    df['% Change'] = df['% Change'].shift(periods=-1)\n",
    "\n",
    "# shows volume change from previous period to current period, lagging\n",
    "def add_volume(df):\n",
    "    df['% Volume'] = df['Volume'].diff()\n",
    "    df['% Volume'] = df['% Volume']/df['Volume']\n",
    "    #df['% Volume'] = df['% Volume'].shift(periods=-1)\n",
    "\n",
    "def preprocess(df):\n",
    "    add_change(df)\n",
    "    add_volume(df)\n",
    "    add_all_indicators(df)\n",
    "    return df.dropna()\n",
    "\n",
    "def create_model(model, train_X, train_y):\n",
    "    model.fit(train_X, train_y)\n",
    "    return model\n",
    "\n",
    "def run_predictions(name, model, val_X, val_y):\n",
    "    model_predictions = model.predict(val_X)\n",
    "    mae = mean_absolute_error(val_y, model_predictions)\n",
    "    score = r2_score(val_y, model_predictions)\n",
    "    return name, mae, score\n",
    "\n",
    "def plot(start, end, df):\n",
    "    plt.plot(df['% Change'].iloc[start:end], label='% Change')\n",
    "    plt.plot(df['xgb'].iloc[start:end], label='xgb')\n",
    "    plt.title('Results')\n",
    "    plt.legend()\n",
    "    plt.show()"
   ]
  },
  {
   "cell_type": "code",
   "execution_count": 64,
   "id": "colored-excellence",
   "metadata": {
    "scrolled": true
   },
   "outputs": [],
   "source": [
    "ticker = yf.Ticker(\"mvis\")\n",
    "df = ticker.history(period=\"1y\", interval=\"1d\")\n",
    "\n",
    "df = preprocess(df)\n",
    "\n",
    "'''\n",
    "features = ['Close', '% Volume',\n",
    "            'bb_bbh', 'bb_bbl', 'bb_avg', 'bb_bbh_ind', 'bb_bbl_ind',\n",
    "            'bb_pband', 'bb_wband', 'rsi', 'macd', 'macd_diff', 'macd_signal',\n",
    "            'don_h', 'don_l', 'don_m', 'don_p', 'don_w',\n",
    "            'ema_9', 'sma_5', 'sma_10', 'sma_15', 'sma_30', 'sma_50']\n",
    "'''\n",
    "# MAE: 0.010470797461438693\n",
    "# R2: -0.07861419383316726\n",
    "# features = ['Close', '% Volume', 'rsi', 'ema_9', 'sma_5', 'sma_10', 'sma_15', 'sma_30']\n",
    "\n",
    "# MAE: 0.010215798148264725\n",
    "# R2: -0.03953100057870662\n",
    "# features = ['% Volume', 'rsi', 'ema_9', 'sma_5', 'sma_10', 'sma_15', 'sma_30']\n",
    "\n",
    "# MAE: 0.010101143501609308\n",
    "# R2: 0.03352706549580298\n",
    "# features = ['% Volume', 'rsi', 'sma_5', 'sma_30']\n",
    "\n",
    "df['sma_5/30'] = df['sma_5']/df['sma_30']\n",
    "# MAE: 0.010893289687274845\n",
    "# R2: -0.14390751067601815\n",
    "# features = ['% Volume', 'rsi', 'sma_5/30']\n",
    "\n",
    "# MAE: 0.010520173929469016\n",
    "# R2: -0.09506686689330923\n",
    "# features = ['% Volume', 'rsi', 'sma_5', 'sma_30', 'sma_5/30']\n",
    "\n",
    "# MAE: 0.010769279276554338\n",
    "# R2: -0.09906339528710584\n",
    "# features = ['Close', '% Volume', 'rsi', 'sma_5', 'sma_30', 'sma_5/30']\n",
    "\n",
    "# MAE: 0.01063246408937692\n",
    "# R2: -0.08386754181172495\n",
    "# features = ['Close', '% Volume', 'rsi', 'sma_5', 'sma_30']\n",
    "\n",
    "df['sma_30/5'] = df['sma_30']/df['sma_5']\n",
    "# MAE: 0.010893289687274845\n",
    "# R2: -0.14390751067601815\n",
    "# features = ['% Volume', 'rsi', 'sma_30/5']\n",
    "\n",
    "df['close/5'] = df['Close']/df['sma_5']\n",
    "df['close/30'] = df['Close']/df['sma_30']\n",
    "# MAE: 0.010989275741044505\n",
    "# R2: -0.19868194615553425\n",
    "# features = ['% Volume', 'rsi', 'close/5', 'close/30']\n",
    "\n",
    "features = ['% Volume', 'rsi', 'sma_5', 'sma_30']"
   ]
  },
  {
   "cell_type": "code",
   "execution_count": 65,
   "id": "determined-sheep",
   "metadata": {},
   "outputs": [
    {
     "name": "stdout",
     "output_type": "stream",
     "text": [
      "xgb\n",
      "MAE: 0.07719402795961193\n",
      "R2: -0.1691827588671848\n"
     ]
    }
   ],
   "source": [
    "X = df[features].copy()\n",
    "y = df['% Change'].copy()\n",
    "\n",
    "train_X, val_X, train_y, val_y = train_test_split(X, y, random_state = 0)\n",
    "\n",
    "fitted_model = create_model(XGBRegressor(), train_X, train_y)\n",
    "name, mae, score = run_predictions('xgb', fitted_model, val_X, val_y)\n",
    "results.append([name, fitted_model, mae, score])\n",
    "df[n] = fitted_model.predict(df[features])\n",
    "\n",
    "print(name)\n",
    "print('MAE: {}'.format(mae))\n",
    "print('R2: {}'.format(score))\n",
    "show_all()\n",
    "#df[['Close', 'bb_bbh', 'bb_bbl', 'rsi', 'macd', 'macd_diff', 'macd_signal', '% Change', '% Volume', 'rfr', 'xgb']]\n",
    "#df[['Close', 'rsi', 'macd', 'macd_signal', '% Change', 'Volume', '% Volume', 'rfr', 'xgb']]"
   ]
  },
  {
   "cell_type": "code",
   "execution_count": 9,
   "id": "nuclear-davis",
   "metadata": {
    "scrolled": true,
    "tags": []
   },
   "outputs": [
    {
     "data": {
      "image/png": "[encoded data removed]",
      "text/plain": [
       "<Figure size 576x396 with 1 Axes>"
      ]
     },
     "metadata": {},
     "output_type": "display_data"
    }
   ],
   "source": [
    "plot(150, 219, df)"
   ]
  },
  {
   "cell_type": "code",
   "execution_count": 24,
   "id": "weekly-climate",
   "metadata": {},
   "outputs": [
    {
     "name": "stdout",
     "output_type": "stream",
     "text": [
      "[0.00492728]\n",
      "[0.01145718]\n"
     ]
    },
    {
     "data": {
      "text/html": [
       "<div>\n",
       "<style scoped>\n",
       "    .dataframe tbody tr th:only-of-type {\n",
       "        vertical-align: middle;\n",
       "    }\n",
       "\n",
       "    .dataframe tbody tr th {\n",
       "        vertical-align: top;\n",
       "    }\n",
       "\n",
       "    .dataframe thead th {\n",
       "        text-align: right;\n",
       "    }\n",
       "</style>\n",
       "<table border=\"1\" class=\"dataframe\">\n",
       "  <thead>\n",
       "    <tr style=\"text-align: right;\">\n",
       "      <th></th>\n",
       "      <th>Close</th>\n",
       "      <th>% Volume</th>\n",
       "      <th>rsi</th>\n",
       "      <th>ema_9</th>\n",
       "      <th>sma_5</th>\n",
       "      <th>sma_10</th>\n",
       "      <th>sma_15</th>\n",
       "      <th>sma_30</th>\n",
       "    </tr>\n",
       "    <tr>\n",
       "      <th>Datetime</th>\n",
       "      <th></th>\n",
       "      <th></th>\n",
       "      <th></th>\n",
       "      <th></th>\n",
       "      <th></th>\n",
       "      <th></th>\n",
       "      <th></th>\n",
       "      <th></th>\n",
       "    </tr>\n",
       "  </thead>\n",
       "  <tbody>\n",
       "    <tr>\n",
       "      <th>2021-02-19 15:50:00-05:00</th>\n",
       "      <td>389.914215</td>\n",
       "      <td>0.346706</td>\n",
       "      <td>40.54144</td>\n",
       "      <td>390.479445</td>\n",
       "      <td>390.570001</td>\n",
       "      <td>390.521249</td>\n",
       "      <td>390.402832</td>\n",
       "      <td>390.460334</td>\n",
       "    </tr>\n",
       "  </tbody>\n",
       "</table>\n",
       "</div>"
      ],
      "text/plain": [
       "                                Close  % Volume       rsi       ema_9  \\\n",
       "Datetime                                                                \n",
       "2021-02-19 15:50:00-05:00  389.914215  0.346706  40.54144  390.479445   \n",
       "\n",
       "                                sma_5      sma_10      sma_15      sma_30  \n",
       "Datetime                                                                   \n",
       "2021-02-19 15:50:00-05:00  390.570001  390.521249  390.402832  390.460334  "
      ]
     },
     "execution_count": 24,
     "metadata": {},
     "output_type": "execute_result"
    }
   ],
   "source": [
    "ticker = yf.Ticker(\"spy\")\n",
    "df_predict = ticker.history(period=\"1d\", interval=\"5m\")\n",
    "add_change(df_predict)\n",
    "add_volume(df_predict)\n",
    "add_all_indicators(df_predict)\n",
    "\n",
    "for model in fitted_models:\n",
    "    print(model.predict(df_predict[features].iloc[-1:]))\n",
    "df_predict[features].iloc[-2:-1]"
   ]
  },
  {
   "cell_type": "code",
   "execution_count": null,
   "id": "collect-phenomenon",
   "metadata": {},
   "outputs": [],
   "source": []
  }
 ],
 "metadata": {
  "kernelspec": {
   "display_name": "Python 3",
   "language": "python",
   "name": "python3"
  },
  "language_info": {
   "codemirror_mode": {
    "name": "ipython",
    "version": 3
   },
   "file_extension": ".py",
   "mimetype": "text/x-python",
   "name": "python",
   "nbconvert_exporter": "python",
   "pygments_lexer": "ipython3",
   "version": "3.8.5"
  }
 },
 "nbformat": 4,
 "nbformat_minor": 5
}
