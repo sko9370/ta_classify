{
 "cells": [
  {
   "cell_type": "code",
   "execution_count": 1,
   "id": "graduate-excess",
   "metadata": {},
   "outputs": [],
   "source": [
    "import argparse\n",
    "from sklearn.model_selection import train_test_split\n",
    "from sklearn.metrics import mean_absolute_error, r2_score\n",
    "\n",
    "import data_processing\n",
    "import functions"
   ]
  },
  {
   "cell_type": "code",
   "execution_count": 12,
   "id": "collected-consolidation",
   "metadata": {},
   "outputs": [
    {
     "name": "stdout",
     "output_type": "stream",
     "text": [
      "                  Open        High         Low       Close     Volume  \\\n",
      "Date                                                                    \n",
      "2020-05-18  289.369280  293.022820  289.023700  291.294800  120320200   \n",
      "2020-05-19  290.652968  292.489592  288.283118  288.302856   95189300   \n",
      "2020-05-20  292.104518  294.128758  291.857658  293.200562   85861700   \n",
      "2020-05-21  293.062345  293.931297  290.001274  291.176331   78293900   \n",
      "2020-05-22  290.870241  291.916925  289.537191  291.729309   63958200   \n",
      "\n",
      "            Dividends  Stock Splits  % Change  % Volume      bb_bbh  ...  \\\n",
      "Date                                                                 ...   \n",
      "2020-05-18        0.0             0 -0.010378  0.076246  292.518414  ...   \n",
      "2020-05-19        0.0             0  0.016704 -0.264010  292.041428  ...   \n",
      "2020-05-20        0.0             0 -0.006952 -0.108635  293.261511  ...   \n",
      "2020-05-21        0.0             0  0.001896 -0.096659  293.710201  ...   \n",
      "2020-05-22        0.0             0  0.012171 -0.224142  294.469762  ...   \n",
      "\n",
      "                 don_l       don_m     don_p     don_w       ema_9  \\\n",
      "Date                                                                 \n",
      "2020-05-18  268.603418  280.813119  0.929236  8.655027  280.376476   \n",
      "2020-05-19  269.561265  281.292042  0.798821  8.288081  281.473396   \n",
      "2020-05-20  269.561265  281.845011  0.962219  8.651861  282.159205   \n",
      "2020-05-21  269.561265  281.845011  0.879824  8.628158  283.267505   \n",
      "2020-05-22  269.561265  281.845011  0.902332  8.609542  284.061071   \n",
      "\n",
      "                 sma_5      sma_10      sma_15      sma_30      sma_50  \n",
      "Date                                                                    \n",
      "2020-05-18  282.806787  283.015134  283.422286  277.620414  266.963384  \n",
      "2020-05-19  283.300507  284.143774  283.945628  279.161149  266.949143  \n",
      "2020-05-20  284.347186  284.714514  284.356403  280.053466  267.331147  \n",
      "2020-05-21  287.374677  285.966586  284.601288  281.100152  267.532506  \n",
      "2020-05-22  289.331781  286.677545  284.890936  281.786423  267.969427  \n",
      "\n",
      "[5 rows x 31 columns]\n",
      "0.009732124236941139 -0.47981797117854375\n"
     ]
    }
   ],
   "source": [
    "ticker = 'spy'\n",
    "period = '1y'\n",
    "gridsearch = False\n",
    "\n",
    "df = data_processing.get_data(ticker, period)\n",
    "data_processing.add_all_indicators(df)\n",
    "dfOriginal = df.copy()\n",
    "df = df.dropna()\n",
    "\n",
    "print(df.head())\n",
    "\n",
    "'''\n",
    "features = ['Close', '% Volume',\n",
    "        'bb_bbh', 'bb_bbl', 'bb_avg', 'bb_bbh_ind', 'bb_bbl_ind',\n",
    "        'bb_pband', 'bb_wband', 'rsi', 'macd', 'macd_diff', 'macd_signal',\n",
    "        'don_h', 'don_l', 'don_m', 'don_p', 'don_w',\n",
    "        'ema_9', 'sma_5', 'sma_10', 'sma_15', 'sma_30', 'sma_50']\n",
    "'''\n",
    "features = ['Close', '% Volume', 'bb_bbh', 'bb_bbl', 'bb_avg',\n",
    "            'rsi', 'ema_9', 'sma_5', 'sma_50']\n",
    "X = df[features].copy()\n",
    "y = df['% Change'].copy()\n",
    "X_train, X_val, y_train, y_val = train_test_split(X, y)\n",
    "\n",
    "model = functions.xgbTuning(X_train, X_val, y_train, y_val, gridsearch)\n",
    "predictions = model.predict(X_val)\n",
    "mae = mean_absolute_error(y_val, predictions)\n",
    "score = r2_score(y_val, predictions)\n",
    "print(mae, score)"
   ]
  },
  {
   "cell_type": "code",
   "execution_count": null,
   "id": "african-chicago",
   "metadata": {},
   "outputs": [],
   "source": [
    "def main():\n",
    "    ticker, period, gridsearch, graph, verbosity = parser()\n",
    "    predictions = predict(ticker, period, gridsearch, verbosity)"
   ]
  }
 ],
 "metadata": {
  "kernelspec": {
   "display_name": "Python 3",
   "language": "python",
   "name": "python3"
  },
  "language_info": {
   "codemirror_mode": {
    "name": "ipython",
    "version": 3
   },
   "file_extension": ".py",
   "mimetype": "text/x-python",
   "name": "python",
   "nbconvert_exporter": "python",
   "pygments_lexer": "ipython3",
   "version": "3.8.5"
  }
 },
 "nbformat": 4,
 "nbformat_minor": 5
}
