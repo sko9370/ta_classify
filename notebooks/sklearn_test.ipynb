{
 "cells": [
  {
   "cell_type": "code",
   "execution_count": 1,
   "id": "architectural-apparatus",
   "metadata": {},
   "outputs": [],
   "source": [
    "import pandas as pd\n",
    "import yfinance as yf\n",
    "\n",
    "from sklearn.model_selection import train_test_split\n",
    "from sklearn.ensemble import RandomForestRegressor\n",
    "from xgboost import XGBRegressor\n",
    "\n",
    "from sklearn.metrics import mean_absolute_error, r2_score\n",
    "import matplotlib.pyplot as plt\n",
    "import matplotlib as mpl\n",
    "mpl.style.use('seaborn')\n",
    "\n",
    "from add_indicators import bollinger_bands, rsi, macd, add_all_indicators"
   ]
  },
  {
   "cell_type": "code",
   "execution_count": 2,
   "id": "southern-ghana",
   "metadata": {},
   "outputs": [],
   "source": [
    "def show_all():\n",
    "    pd.set_option('display.max_rows', None)\n",
    "    pd.set_option('display.max_columns', None)\n",
    "    pd.set_option('display.width', None)\n",
    "    pd.set_option('display.max_colwidth', None)\n",
    "\n",
    "def add_change(df):\n",
    "    df['% Change'] = df['Close'].diff()\n",
    "    df['% Change'] = df['% Change']/df['Close']\n",
    "    df['% Change'] = df['% Change'].shift(periods=-1)\n",
    "\n",
    "# shows volume change from previous period to current period, lagging\n",
    "def add_volume(df):\n",
    "    df['% Volume'] = df['Volume'].diff()\n",
    "    df['% Volume'] = df['% Volume']/df['Volume']\n",
    "    #df['% Volume'] = df['% Volume'].shift(periods=-1)\n",
    "\n",
    "def preprocess(df):\n",
    "    add_change(df)\n",
    "    add_volume(df)\n",
    "    add_all_indicators(df)\n",
    "    return df.dropna()\n",
    "\n",
    "def create_model(model, train_X, train_y):\n",
    "    model.fit(train_X, train_y)\n",
    "    return model\n",
    "\n",
    "def run_predictions(name, model, val_X, val_y):\n",
    "    model_predictions = model.predict(val_X)\n",
    "    mae = mean_absolute_error(val_y, model_predictions)\n",
    "    score = r2_score(val_y, model_predictions)\n",
    "    return name, mae, score\n",
    "\n",
    "def plot(start, end, df):\n",
    "    plt.plot(df['% Change'].iloc[start:end], label='% Change')\n",
    "    plt.plot(df['rfr'].iloc[start:end], label='rfr')\n",
    "    plt.plot(df['xgb'].iloc[start:end], label='xgb')\n",
    "    plt.title('Results')\n",
    "    plt.legend()\n",
    "    plt.show()\n",
    "    \n",
    "def show_results(results):\n",
    "    for r in results:\n",
    "        df[r[0]] = r[1].predict(df[features])\n",
    "        print('Model: ', r[0])\n",
    "        print('% MAE: ', r[2])\n",
    "        print('Score: ', r[3])\n",
    "        print()"
   ]
  },
  {
   "cell_type": "code",
   "execution_count": 3,
   "id": "reflected-trout",
   "metadata": {
    "scrolled": true
   },
   "outputs": [],
   "source": [
    "ticker = yf.Ticker(\"spy\")\n",
    "df = ticker.history(period=\"1y\", interval=\"1d\")\n",
    "\n",
    "df = preprocess(df)\n",
    "\n",
    "features = ['Close', '% Volume', 'rsi',\n",
    "            'ema_9', 'sma_5', 'sma_10', 'sma_15', 'sma_30']\n",
    "\n",
    "X = df[features].copy()\n",
    "y = df['% Change'].copy()\n",
    "\n",
    "X_train, X_val, y_train, y_val = train_test_split(X, y, random_state = 0)"
   ]
  },
  {
   "cell_type": "code",
   "execution_count": 7,
   "id": "generic-antigua",
   "metadata": {},
   "outputs": [
    {
     "name": "stdout",
     "output_type": "stream",
     "text": [
      "MAE: 0.009588287908595172\n",
      "R2: 0.1360563233722275\n"
     ]
    }
   ],
   "source": [
    "model = XGBRegressor(objective='reg:squarederror')\n",
    "model.fit(X_train, y_train)\n",
    "\n",
    "model_predictions = model.predict(X_val)\n",
    "mae = mean_absolute_error(y_val, model_predictions)\n",
    "score = r2_score(y_val, model_predictions)\n",
    "\n",
    "print('MAE: {}'.format(mae))\n",
    "print('R2: {}'.format(score))"
   ]
  },
  {
   "cell_type": "code",
   "execution_count": null,
   "id": "hindu-regulation",
   "metadata": {},
   "outputs": [],
   "source": []
  }
 ],
 "metadata": {
  "kernelspec": {
   "display_name": "Python 3",
   "language": "python",
   "name": "python3"
  },
  "language_info": {
   "codemirror_mode": {
    "name": "ipython",
    "version": 3
   },
   "file_extension": ".py",
   "mimetype": "text/x-python",
   "name": "python",
   "nbconvert_exporter": "python",
   "pygments_lexer": "ipython3",
   "version": "3.8.5"
  }
 },
 "nbformat": 4,
 "nbformat_minor": 5
}
