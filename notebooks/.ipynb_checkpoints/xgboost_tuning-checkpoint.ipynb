{
 "cells": [
  {
   "cell_type": "code",
   "execution_count": 1,
   "id": "prostate-concentration",
   "metadata": {},
   "outputs": [],
   "source": [
    "import pandas as pd\n",
    "import yfinance as yf\n",
    "\n",
    "from sklearn.model_selection import train_test_split, GridSearchCV\n",
    "from sklearn.ensemble import RandomForestRegressor\n",
    "from xgboost import XGBRegressor\n",
    "\n",
    "from sklearn.metrics import mean_absolute_error, r2_score\n",
    "import matplotlib.pyplot as plt\n",
    "import matplotlib as mpl\n",
    "mpl.style.use('seaborn')\n",
    "\n",
    "from add_indicators import bollinger_bands, rsi, macd, add_all_indicators"
   ]
  },
  {
   "cell_type": "code",
   "execution_count": 2,
   "id": "federal-scanner",
   "metadata": {},
   "outputs": [],
   "source": [
    "def show_all():\n",
    "    pd.set_option('display.max_rows', None)\n",
    "    pd.set_option('display.max_columns', None)\n",
    "    pd.set_option('display.width', None)\n",
    "    pd.set_option('display.max_colwidth', None)\n",
    "\n",
    "def add_change(df):\n",
    "    df['% Change'] = df['Close'].diff()\n",
    "    df['% Change'] = df['% Change']/df['Close']\n",
    "    df['% Change'] = df['% Change'].shift(periods=-1)\n",
    "    \n",
    "def add_volume(df):\n",
    "    df['% Volume'] = df['Volume'].diff()\n",
    "    df['% Volume'] = df['% Volume']/df['Volume']\n",
    "    #df['% Volume'] = df['% Volume'].shift(periods=-1)\n",
    "\n",
    "def preprocess(df):\n",
    "    add_change(df)\n",
    "    add_volume(df)\n",
    "    add_all_indicators(df)\n",
    "    return df.dropna()\n",
    "\n",
    "def create_model(model, train_X, train_y):\n",
    "    model.fit(train_X, train_y)\n",
    "    return model\n",
    "\n",
    "def run_predictions(name, model, val_X, val_y):\n",
    "    model_predictions = model.predict(val_X)\n",
    "    mae = mean_absolute_error(val_y, model_predictions)\n",
    "    score = r2_score(val_y, model_predictions)\n",
    "    return name, mae, score\n",
    "\n",
    "def plot(start, end, df):\n",
    "    plt.plot(df['% Change'].iloc[start:end], label='% Change')\n",
    "    plt.plot(df['rfr'].iloc[start:end], label='rfr')\n",
    "    plt.plot(df['xgb'].iloc[start:end], label='xgb')\n",
    "    plt.title('Results')\n",
    "    plt.legend()\n",
    "    plt.show()\n",
    "    \n",
    "def show_results(results):\n",
    "    for r in results:\n",
    "        df[r[0]] = r[1].predict(df[features])\n",
    "        print('Model: ', r[0])\n",
    "        print('% MAE: ', r[2])\n",
    "        print('Score: ', r[3])\n",
    "        print()"
   ]
  },
  {
   "cell_type": "code",
   "execution_count": 6,
   "id": "interior-scratch",
   "metadata": {
    "scrolled": true
   },
   "outputs": [],
   "source": [
    "ticker = yf.Ticker(\"spy\")\n",
    "df = ticker.history(period=\"1y\", interval=\"1d\")\n",
    "\n",
    "df = preprocess(df)\n",
    "\n",
    "#features = ['Close', 'bb_bbl', 'bb_bbh', 'rsi']\n",
    "#features = ['bb_bbl', 'bb_bbh', 'rsi', 'macd', 'macd_diff', 'macd_signal']\n",
    "#features = ['Close', 'bb_bbl', 'bb_bbh', 'rsi', 'macd', 'macd_diff', 'macd_signal', '% Volume']\n",
    "'''\n",
    "features = ['Close', '% Volume',\n",
    "            'bb_bbh', 'bb_bbl', 'bb_avg', 'bb_bbh_ind', 'bb_bbl_ind',\n",
    "            'bb_pband', 'bb_wband', 'rsi', 'macd', 'macd_diff', 'macd_signal',\n",
    "            'don_h', 'don_l', 'don_m', 'don_p', 'don_w',\n",
    "            'ema_9', 'sma_5', 'sma_10', 'sma_15', 'sma_30', 'sma_50']\n",
    "\n",
    "features = ['Close',# '% Volume',\n",
    "            'bb_bbh', 'bb_bbl', 'bb_avg',\n",
    "            'macd', 'macd_signal',\n",
    "            'don_h', 'don_l', 'don_m', 'don_p', 'don_w']\n",
    "'''\n",
    "features = ['Close', '% Volume', 'rsi',\n",
    "            'bb_bbh', 'bb_bbl', 'bb_avg',\n",
    "            'ema_9', 'sma_5', 'sma_10', 'sma_15', 'sma_30']\n",
    "\n",
    "X = df[features].copy()\n",
    "y = df['% Change'].copy()\n",
    "\n",
    "train_X, val_X, train_y, val_y = train_test_split(X, y, random_state = 0)"
   ]
  },
  {
   "cell_type": "code",
   "execution_count": 15,
   "id": "enhanced-salad",
   "metadata": {},
   "outputs": [
    {
     "name": "stdout",
     "output_type": "stream",
     "text": [
      "Best params: {'gamma': 0.005, 'learning_rate': 0.05, 'max_depth': 8, 'n_estimators': 200, 'random_state': 42}\n",
      "Best validation score = -0.06725465727808669\n",
      "CPU times: user 1min 32s, sys: 1.33 s, total: 1min 33s\n",
      "Wall time: 56.9 s\n"
     ]
    },
    {
     "data": {
      "text/plain": [
       "XGBRegressor(base_score=0.5, booster='gbtree', colsample_bylevel=1,\n",
       "             colsample_bynode=1, colsample_bytree=1, gamma=0.005, gpu_id=-1,\n",
       "             importance_type='gain', interaction_constraints='',\n",
       "             learning_rate=0.05, max_delta_step=0, max_depth=8,\n",
       "             min_child_weight=1, missing=nan, monotone_constraints='()',\n",
       "             n_estimators=200, n_jobs=2, num_parallel_tree=1, random_state=42,\n",
       "             reg_alpha=0, reg_lambda=1, scale_pos_weight=1, subsample=1,\n",
       "             tree_method='exact', validate_parameters=1, verbosity=None)"
      ]
     },
     "execution_count": 15,
     "metadata": {},
     "output_type": "execute_result"
    }
   ],
   "source": [
    "%%time\n",
    "\n",
    "parameters = {\n",
    "    'n_estimators': [100, 200, 300, 400],\n",
    "    'learning_rate': [0.001, 0.005, 0.01, 0.05],\n",
    "    'max_depth': [8, 10, 12, 15],\n",
    "    'gamma': [0.001, 0.005, 0.01, 0.02],\n",
    "    'random_state': [42]\n",
    "}\n",
    "\n",
    "eval_set = [(train_X, train_y), (val_X, val_y)]\n",
    "\n",
    "model = XGBRegressor(objective='reg:squarederror')\n",
    "clf = GridSearchCV(model, parameters)\n",
    "clf.fit(train_X, train_y)\n",
    "\n",
    "print(f'Best params: {clf.best_params_}')\n",
    "print(f'Best validation score = {clf.best_score_}')\n",
    "\n",
    "model = XGBRegressor(**clf.best_params_, objective='reg:squarederror')\n",
    "model.fit(train_X, train_y, eval_set=eval_set, verbose=False)"
   ]
  },
  {
   "cell_type": "code",
   "execution_count": 17,
   "id": "swiss-planning",
   "metadata": {},
   "outputs": [
    {
     "name": "stdout",
     "output_type": "stream",
     "text": [
      "0.007862546084482173 -0.06868601059031465\n"
     ]
    }
   ],
   "source": [
    "model_predictions = model.predict(val_X)\n",
    "mae = mean_absolute_error(val_y, model_predictions)\n",
    "score = r2_score(val_y, model_predictions)\n",
    "print(mae, score)"
   ]
  },
  {
   "cell_type": "code",
   "execution_count": 18,
   "id": "signed-chart",
   "metadata": {},
   "outputs": [
    {
     "data": {
      "text/plain": [
       "XGBRegressor(base_score=0.5, booster='gbtree', colsample_bylevel=1,\n",
       "             colsample_bynode=1, colsample_bytree=1, gamma=0, gpu_id=-1,\n",
       "             importance_type='gain', interaction_constraints='',\n",
       "             learning_rate=0.05, max_delta_step=0, max_depth=6,\n",
       "             min_child_weight=1, missing=nan, monotone_constraints='()',\n",
       "             n_estimators=500, n_jobs=4, num_parallel_tree=1, random_state=0,\n",
       "             reg_alpha=0, reg_lambda=1, scale_pos_weight=1, subsample=1,\n",
       "             tree_method='exact', validate_parameters=1, verbosity=None)"
      ]
     },
     "execution_count": 18,
     "metadata": {},
     "output_type": "execute_result"
    }
   ],
   "source": [
    "model = XGBRegressor(n_estimators=500, learning_rate=0.05, n_jobs=4)\n",
    "model.fit(train_X, train_y, \n",
    "             early_stopping_rounds=5, \n",
    "             eval_set=[(val_X, val_y)],\n",
    "             verbose=False)"
   ]
  },
  {
   "cell_type": "code",
   "execution_count": 19,
   "id": "numerical-uruguay",
   "metadata": {},
   "outputs": [
    {
     "name": "stdout",
     "output_type": "stream",
     "text": [
      "0.007706117881353226 -0.2282950051617363\n"
     ]
    }
   ],
   "source": [
    "model_predictions = model.predict(val_X)\n",
    "mae = mean_absolute_error(val_y, model_predictions)\n",
    "score = r2_score(val_y, model_predictions)\n",
    "print(mae, score)"
   ]
  },
  {
   "cell_type": "code",
   "execution_count": null,
   "id": "characteristic-postage",
   "metadata": {},
   "outputs": [],
   "source": []
  }
 ],
 "metadata": {
  "kernelspec": {
   "display_name": "Python 3",
   "language": "python",
   "name": "python3"
  },
  "language_info": {
   "codemirror_mode": {
    "name": "ipython",
    "version": 3
   },
   "file_extension": ".py",
   "mimetype": "text/x-python",
   "name": "python",
   "nbconvert_exporter": "python",
   "pygments_lexer": "ipython3",
   "version": "3.8.5"
  }
 },
 "nbformat": 4,
 "nbformat_minor": 5
}
