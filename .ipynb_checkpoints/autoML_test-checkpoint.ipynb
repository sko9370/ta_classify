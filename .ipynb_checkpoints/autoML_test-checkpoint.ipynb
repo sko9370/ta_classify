{
 "cells": [
  {
   "cell_type": "code",
   "execution_count": 1,
   "id": "manual-patrol",
   "metadata": {},
   "outputs": [],
   "source": [
    "import pandas as pd\n",
    "import yfinance as yf\n",
    "\n",
    "from sklearn.model_selection import train_test_split, GridSearchCV\n",
    "from sklearn.ensemble import RandomForestRegressor\n",
    "from xgboost import XGBRegressor\n",
    "\n",
    "from sklearn.metrics import mean_absolute_error, r2_score\n",
    "import matplotlib.pyplot as plt\n",
    "import matplotlib as mpl\n",
    "mpl.style.use('seaborn')\n",
    "\n",
    "from add_indicators import bollinger_bands, rsi, macd, add_all_indicators"
   ]
  },
  {
   "cell_type": "code",
   "execution_count": 2,
   "id": "knowing-measure",
   "metadata": {},
   "outputs": [],
   "source": [
    "def show_all():\n",
    "    pd.set_option('display.max_rows', None)\n",
    "    pd.set_option('display.max_columns', None)\n",
    "    pd.set_option('display.width', None)\n",
    "    pd.set_option('display.max_colwidth', None)\n",
    "\n",
    "def add_change(df):\n",
    "    df['% Change'] = df['Close'].diff()\n",
    "    df['% Change'] = df['% Change']/df['Close']\n",
    "    df['% Change'] = df['% Change'].shift(periods=-1)\n",
    "    \n",
    "def add_volume(df):\n",
    "    df['% Volume'] = df['Volume'].diff()\n",
    "    df['% Volume'] = df['% Volume']/df['Volume']\n",
    "    #df['% Volume'] = df['% Volume'].shift(periods=-1)\n",
    "\n",
    "def preprocess(df):\n",
    "    add_change(df)\n",
    "    add_volume(df)\n",
    "    add_all_indicators(df)\n",
    "    return df.dropna()\n",
    "\n",
    "def create_model(model, train_X, train_y):\n",
    "    model.fit(train_X, train_y)\n",
    "    return model\n",
    "\n",
    "def run_predictions(name, model, val_X, val_y):\n",
    "    model_predictions = model.predict(val_X)\n",
    "    mae = mean_absolute_error(val_y, model_predictions)\n",
    "    score = r2_score(val_y, model_predictions)\n",
    "    return name, mae, score\n",
    "\n",
    "def plot(start, end, df):\n",
    "    plt.plot(df['% Change'].iloc[start:end], label='% Change')\n",
    "    plt.plot(df['rfr'].iloc[start:end], label='rfr')\n",
    "    plt.plot(df['xgb'].iloc[start:end], label='xgb')\n",
    "    plt.title('Results')\n",
    "    plt.legend()\n",
    "    plt.show()\n",
    "    \n",
    "def show_results(results):\n",
    "    for r in results:\n",
    "        df[r[0]] = r[1].predict(df[features])\n",
    "        print('Model: ', r[0])\n",
    "        print('% MAE: ', r[2])\n",
    "        print('Score: ', r[3])\n",
    "        print()"
   ]
  },
  {
   "cell_type": "code",
   "execution_count": 3,
   "id": "dated-concentrate",
   "metadata": {
    "scrolled": true
   },
   "outputs": [],
   "source": [
    "ticker = yf.Ticker(\"spy\")\n",
    "df = ticker.history(period=\"1y\", interval=\"1d\")\n",
    "\n",
    "df = preprocess(df)\n",
    "\n",
    "#features = ['Close', 'bb_bbl', 'bb_bbh', 'rsi']\n",
    "#features = ['bb_bbl', 'bb_bbh', 'rsi', 'macd', 'macd_diff', 'macd_signal']\n",
    "#features = ['Close', 'bb_bbl', 'bb_bbh', 'rsi', 'macd', 'macd_diff', 'macd_signal', '% Volume']\n",
    "'''\n",
    "features = ['Close', '% Volume',\n",
    "            'bb_bbh', 'bb_bbl', 'bb_avg', 'bb_bbh_ind', 'bb_bbl_ind',\n",
    "            'bb_pband', 'bb_wband', 'rsi', 'macd', 'macd_diff', 'macd_signal',\n",
    "            'don_h', 'don_l', 'don_m', 'don_p', 'don_w',\n",
    "            'ema_9', 'sma_5', 'sma_10', 'sma_15', 'sma_30', 'sma_50']\n",
    "\n",
    "features = ['Close',# '% Volume',\n",
    "            'bb_bbh', 'bb_bbl', 'bb_avg',\n",
    "            'macd', 'macd_signal',\n",
    "            'don_h', 'don_l', 'don_m', 'don_p', 'don_w']\n",
    "'''\n",
    "features = ['Close', '% Volume', 'rsi',\n",
    "            'bb_bbh', 'bb_bbl', 'bb_avg',\n",
    "            'ema_9', 'sma_5', 'sma_10', 'sma_15', 'sma_30']\n",
    "\n",
    "X = df[features].copy()\n",
    "y = df['% Change'].copy()\n",
    "\n",
    "train_X, val_X, train_y, val_y = train_test_split(X, y, random_state = 0)"
   ]
  },
  {
   "cell_type": "code",
   "execution_count": null,
   "id": "hairy-suite",
   "metadata": {},
   "outputs": [],
   "source": [
    "from tpot import TPOTRegressor\n",
    "\n",
    "tpot = TPOTRegressor(generations=5, population_size=50, verbosity=2, n_jobs=4)\n",
    "tpot.fit(train_X, train_y)\n",
    "print(tpot.score(val_X, val_y))\n",
    "tpot.export('test_pipeline.py')"
   ]
  },
  {
   "cell_type": "code",
   "execution_count": null,
   "id": "educational-moral",
   "metadata": {},
   "outputs": [],
   "source": []
  }
 ],
 "metadata": {
  "kernelspec": {
   "display_name": "Python 3",
   "language": "python",
   "name": "python3"
  },
  "language_info": {
   "codemirror_mode": {
    "name": "ipython",
    "version": 3
   },
   "file_extension": ".py",
   "mimetype": "text/x-python",
   "name": "python",
   "nbconvert_exporter": "python",
   "pygments_lexer": "ipython3",
   "version": "3.8.5"
  }
 },
 "nbformat": 4,
 "nbformat_minor": 5
}
